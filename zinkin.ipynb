{
 "cells": [
  {
   "cell_type": "markdown",
   "id": "brutal-diesel",
   "metadata": {},
   "source": [
    "# Материалы к вебинару 3 марта 2021\n",
    "\n",
    "«Нестандартные алгоритмы решения ЕГЭ 2021 по&nbsp;информатике с&nbsp;помощью компьютера»"
   ]
  },
  {
   "cell_type": "markdown",
   "id": "combined-bishop",
   "metadata": {},
   "source": [
    "ЕГЭ по&nbsp;информатике в&nbsp;2021 году пройдёт в&nbsp;компьютерной форме. В&nbsp;течение всего экзамена ученикам доступен компьютер. На&nbsp;вебинаре ведущий показал классические и&nbsp;нестандартные подходы к&nbsp;решению задач. Эти методы позволяют решить задания в&nbsp;три раза быстрее. Разобрали практические задания.\n",
    "\n",
    "Вебинар полезен начинающим и&nbsp;опытным репетиторам, которые готовят учеников к&nbsp;сдаче ЕГЭ по&nbsp;информатике."
   ]
  },
  {
   "cell_type": "markdown",
   "id": "owned-methodology",
   "metadata": {},
   "source": [
    "<a href=\"https://webinar.profi.ru/recordings#rec209148844\" target=\"_blank\">Купить запись вебинара</a>"
   ]
  },
  {
   "cell_type": "markdown",
   "id": "global-nepal",
   "metadata": {},
   "source": [
    "### Автор — <a href=\"https://profi.ru/profile/ZinkinAA/\" target=\"_blank\">Артём Анатольевич Зинкин</a>\n",
    "\n",
    "Экспертный уровень ЕГЭ, МЦКО  \n",
    "Анализирую большие данные и&nbsp;пишу ботов на&nbsp;Python  \n",
    "Основатель проекта для спортивных программистов <a href=\"https://olympcode.ru\" target=\"_blank\">olympcode.ru</a>"
   ]
  },
  {
   "cell_type": "markdown",
   "id": "level-intranet",
   "metadata": {},
   "source": [
    "### Программа вебинара\n",
    "\n",
    "1. Ключевые изменения ЕГЭ по&nbsp;информатике в&nbsp;2021 году\n",
    "2. Подход к&nbsp;решению задач с&nbsp;учётом изменений\n",
    "3. Реализация подхода на&nbsp;примере задания 14\n",
    "4. Методика решения задания 24&nbsp;ЕГЭ по&nbsp;информатике"
   ]
  },
  {
   "cell_type": "markdown",
   "id": "cognitive-camping",
   "metadata": {},
   "source": [
    "### Ключевые изменения ЕГЭ по&nbsp;информатике\n",
    "\n",
    "1. Среда программирования\n",
    "2. Ответ важнее решения"
   ]
  },
  {
   "cell_type": "markdown",
   "id": "legitimate-sleeve",
   "metadata": {},
   "source": [
    "### Подход к&nbsp;решению\n",
    "\n",
    "- Программа «Минутка»\n",
    "- Встроенные функции\n",
    "- Экзамен не олимпиада"
   ]
  },
  {
   "cell_type": "markdown",
   "id": "prescribed-solution",
   "metadata": {},
   "source": [
    "### ЕГЭ номер 14. Прямое сложение в&nbsp;системах счислений&para;"
   ]
  },
  {
   "cell_type": "markdown",
   "id": "pointed-scroll",
   "metadata": {},
   "source": [
    "**Задача&nbsp;1.** Значение арифметического выражения: \\\\(9^{18} + 3^{54} - 9\\\\) записали в&nbsp;системе счисления с&nbsp;основанием \\\\(3\\\\). Сколько цифр &laquo;\\\\(2\\\\)&raquo; содержится в&nbsp;этой записи?"
   ]
  },
  {
   "cell_type": "code",
   "execution_count": 9,
   "id": "manufactured-isolation",
   "metadata": {},
   "outputs": [
    {
     "name": "stdout",
     "output_type": "stream",
     "text": [
      "34\n"
     ]
    }
   ],
   "source": [
    "# Подробный вариант\n",
    "\n",
    "n = 9 ** 18 + 3 ** 54 - 9\n",
    "s = 0\n",
    "\n",
    "while n != 0:\n",
    "    if n % 3 == 2:\n",
    "        s = s + 1\n",
    "    n = n // 3\n",
    "\n",
    "print(s)"
   ]
  },
  {
   "cell_type": "code",
   "execution_count": 10,
   "id": "acting-miller",
   "metadata": {},
   "outputs": [
    {
     "name": "stdout",
     "output_type": "stream",
     "text": [
      "34\n"
     ]
    }
   ],
   "source": [
    "# Короткий вариант\n",
    "\n",
    "n = 9 ** 18 + 3 ** 54 - 9\n",
    "s = 0\n",
    "\n",
    "while n:\n",
    "    s += n % 3 == 2\n",
    "    n //= 3\n",
    "\n",
    "print(s)"
   ]
  },
  {
   "cell_type": "markdown",
   "id": "fundamental-medium",
   "metadata": {},
   "source": [
    "**Общий вид**\n",
    "\n",
    "```python\n",
    "n = выражение\n",
    "s = 0\n",
    "\n",
    "while n:\n",
    "    s += n % основание == цифра\n",
    "    n //= основание\n",
    "\n",
    "print(s)\n",
    "```"
   ]
  },
  {
   "cell_type": "markdown",
   "id": "promotional-disorder",
   "metadata": {},
   "source": [
    "**Задача&nbsp;2.** Значение выражения \\\\(2 * 216^6 + 3 * 36^9 − 432\\\\) записали в&nbsp;системе счисления с&nbsp;основанием \\\\(6\\\\). Сколько цифр \\\\(5\\\\) содержится в&nbsp;этой записи?"
   ]
  },
  {
   "cell_type": "code",
   "execution_count": 11,
   "id": "noble-village",
   "metadata": {},
   "outputs": [
    {
     "name": "stdout",
     "output_type": "stream",
     "text": [
      "14\n"
     ]
    }
   ],
   "source": [
    "n = 2 * 216 ** 6 + 3 * 36 ** 9 - 432\n",
    "s = 0\n",
    "\n",
    "while n:\n",
    "    s += n % 6 == 5\n",
    "    n //= 6\n",
    "\n",
    "print(s)"
   ]
  },
  {
   "cell_type": "markdown",
   "id": "surrounded-water",
   "metadata": {},
   "source": [
    "**Задача&nbsp;3.** Значение выражения \\\\(216^5 + 6^3 - 1 - X\\\\) записали в&nbsp;системе счисления с&nbsp;основанием \\\\(6\\\\), при этом в&nbsp;записи оказалось \\\\(12\\\\) цифр \\\\(5\\\\). При каком минимальном положительном значении \\\\(X\\\\) это возможно?"
   ]
  },
  {
   "cell_type": "code",
   "execution_count": 12,
   "id": "located-bullet",
   "metadata": {},
   "outputs": [
    {
     "name": "stdout",
     "output_type": "stream",
     "text": [
      "259\n"
     ]
    }
   ],
   "source": [
    "for x in range(1000):\n",
    "    n = 216 ** 5 + 6 ** 3 - 1 - x\n",
    "    s = 0\n",
    "\n",
    "    while n:\n",
    "        s += n % 6 == 5\n",
    "        n //= 6\n",
    "\n",
    "    if s == 12:\n",
    "        print(x)\n",
    "        break"
   ]
  },
  {
   "cell_type": "markdown",
   "id": "urban-action",
   "metadata": {},
   "source": [
    "### ЕГЭ номер 24. Обработка символьных строк"
   ]
  },
  {
   "cell_type": "markdown",
   "id": "ideal-salad",
   "metadata": {},
   "source": [
    "<center><img src=\"src/img/files.png\" width=\"200\"></center>"
   ]
  },
  {
   "cell_type": "code",
   "execution_count": null,
   "id": "cutting-offer",
   "metadata": {},
   "outputs": [],
   "source": [
    "# технический момент\n",
    "# файл с кодом и текстовый файл должны быть в одном каталоге\n",
    "\n",
    "import os\n",
    "os.chdir(\"src/txt/\")"
   ]
  },
  {
   "cell_type": "markdown",
   "id": "expected-tourist",
   "metadata": {},
   "source": [
    "**Задача&nbsp;4.** Текстовый файл состоит не&nbsp;более чем из \\\\(10^6\\\\) символов \\\\(X\\\\), \\\\(Y\\\\) и \\\\(Z\\\\). Определите максимальную длину цепочки вида \\\\(XYZXYZXYZ...\\\\) (последний фрагмент может быть неполным)."
   ]
  },
  {
   "cell_type": "code",
   "execution_count": 30,
   "id": "ancient-graph",
   "metadata": {},
   "outputs": [
    {
     "name": "stdout",
     "output_type": "stream",
     "text": [
      "13\n"
     ]
    }
   ],
   "source": [
    "# Классическое решение\n",
    "\n",
    "file  = open('24.txt').read()\n",
    "\n",
    "max_count = count = 0\n",
    "\n",
    "for char in file:\n",
    "    if (char == 'X' and count % 3 == 0 or \n",
    "        char == 'Y' and count % 3 == 1 or \n",
    "        char == 'Z' and count % 3 == 2 ):\n",
    "        count += 1\n",
    "    elif char == 'X':\n",
    "        count = 1\n",
    "    else:\n",
    "        count = 0\n",
    "    max_count = max(count, max_count)\n",
    "\n",
    "print(max_count)"
   ]
  },
  {
   "cell_type": "code",
   "execution_count": 28,
   "id": "equivalent-interaction",
   "metadata": {},
   "outputs": [
    {
     "name": "stdout",
     "output_type": "stream",
     "text": [
      "13\n"
     ]
    }
   ],
   "source": [
    "# Упрощенный вариант\n",
    "\n",
    "file  = open('24.txt').read()\n",
    "\n",
    "max_count = count = 0\n",
    "\n",
    "for char in file:\n",
    "    if char == 'XYZ'[count % 3]:\n",
    "        count += 1\n",
    "    elif char == 'X':\n",
    "        count = 1\n",
    "    else:\n",
    "        count = 0\n",
    "    max_count = max(count, max_count)\n",
    "\n",
    "print(max_count)"
   ]
  },
  {
   "cell_type": "code",
   "execution_count": 29,
   "id": "indoor-montreal",
   "metadata": {},
   "outputs": [
    {
     "name": "stdout",
     "output_type": "stream",
     "text": [
      "13\n"
     ]
    }
   ],
   "source": [
    "# Нестандартный подход\n",
    "\n",
    "file  = open('24.txt').read()\n",
    "\n",
    "chain = \"\"\n",
    "count = 0\n",
    "\n",
    "while chain in file:\n",
    "    chain += \"XYZ\"[count % 3]\n",
    "    count += 1\n",
    "\n",
    "print(count - 1)"
   ]
  },
  {
   "cell_type": "markdown",
   "id": "southwest-franklin",
   "metadata": {},
   "source": [
    "**Задача&nbsp;5.** Текстовый файл состоит не&nbsp;более чем из \\\\(10^6\\\\) символов \\\\(X\\\\), \\\\(Y\\\\) и \\\\(Z\\\\). Определите длину самой длинной последовательности, состоящей из&nbsp;символов \\\\(X\\\\)."
   ]
  },
  {
   "cell_type": "code",
   "execution_count": 31,
   "id": "outer-buyer",
   "metadata": {},
   "outputs": [
    {
     "name": "stdout",
     "output_type": "stream",
     "text": [
      "19\n"
     ]
    }
   ],
   "source": [
    "# Алгоритм из задачи 4\n",
    "file  = open('24.txt').read()\n",
    "\n",
    "chain = \"\"\n",
    "\n",
    "while chain in file:\n",
    "    chain += \"X\"\n",
    "\n",
    "print(len(chain) - 1)"
   ]
  },
  {
   "cell_type": "code",
   "execution_count": 32,
   "id": "outdoor-welsh",
   "metadata": {},
   "outputs": [
    {
     "name": "stdout",
     "output_type": "stream",
     "text": [
      "19\n"
     ]
    }
   ],
   "source": [
    "# Нестандартный подход\n",
    "string = open('24.txt').read().replace(\"Y\", \" \").replace(\"Z\", \" \").split()\n",
    "print(len(max(string, key=len)))"
   ]
  },
  {
   "cell_type": "markdown",
   "id": "affected-bradford",
   "metadata": {},
   "source": [
    "**Задача&nbsp;6.** Текстовый файл состоит не&nbsp;более чем из \\\\(10^6\\\\) символов \\\\(X\\\\), \\\\(Y\\\\) и \\\\(Z\\\\). Определите максимальное количество идущих подряд символов, среди которых каждые два соседних различны."
   ]
  },
  {
   "cell_type": "code",
   "execution_count": 34,
   "id": "blind-flour",
   "metadata": {},
   "outputs": [
    {
     "name": "stdout",
     "output_type": "stream",
     "text": [
      "35\n"
     ]
    }
   ],
   "source": [
    "# Нестандартный подход\n",
    "\n",
    "string = open('24.txt').read()\n",
    "pairs = ('XX', \"X X\"), ('YY', \"Y Y\"), ('ZZ', \"Z Z\")\n",
    "\n",
    "while 'XX' in string:\n",
    "    string = string.replace('XX', 'X X')\n",
    "    \n",
    "while 'YY' in string:\n",
    "    string = string.replace('YY', 'Y Y')\n",
    "    \n",
    "while 'ZZ' in string:\n",
    "    string = string.replace('ZZ', 'Z Z')\n",
    "        \n",
    "print( len(max(string.split(), key=len)) )"
   ]
  },
  {
   "cell_type": "code",
   "execution_count": 35,
   "id": "desirable-nepal",
   "metadata": {},
   "outputs": [
    {
     "name": "stdout",
     "output_type": "stream",
     "text": [
      "35\n"
     ]
    }
   ],
   "source": [
    "# Упрощенный вариант\n",
    "\n",
    "string = open('24.txt').read()\n",
    "pairs = ('XX', \"X X\"), ('YY', \"Y Y\"), ('ZZ', \"Z Z\")\n",
    "\n",
    "for a,b in pairs:\n",
    "    while a in string: string = string.replace(a, b)\n",
    "        \n",
    "print( len(max(string.split(), key=len)) )"
   ]
  },
  {
   "cell_type": "markdown",
   "id": "amino-sociology",
   "metadata": {},
   "source": [
    "**Задача&nbsp;7.** Текстовый файл содержит только заглавные буквы латинского алфавита \\\\(ABC... Z\\\\). Определите символ, который чаще всего встречается в&nbsp;файле сразу после буквы \\\\(A\\\\)."
   ]
  },
  {
   "cell_type": "code",
   "execution_count": 36,
   "id": "relative-staff",
   "metadata": {},
   "outputs": [
    {
     "name": "stdout",
     "output_type": "stream",
     "text": [
      "1555 G\n"
     ]
    }
   ],
   "source": [
    "# Нестандартный подход\n",
    "\n",
    "string = open('24.A.txt').read()\n",
    "\n",
    "max_len = 0\n",
    "max_len_char = \"\"\n",
    "alph = \"QAZWSXEDCRFVTGBYHNUJMIKOLP\"\n",
    "\n",
    "for char in alph:\n",
    "    s = string.count(\"A\" + char)\n",
    "    if s > max_len:\n",
    "        max_len = s\n",
    "        max_len_char = char\n",
    "\n",
    "print(max_len, max_len_char)"
   ]
  },
  {
   "cell_type": "code",
   "execution_count": 43,
   "id": "rubber-charge",
   "metadata": {},
   "outputs": [
    {
     "name": "stdout",
     "output_type": "stream",
     "text": [
      "1555 G\n"
     ]
    }
   ],
   "source": [
    "# Упрощенный вариант\n",
    "\n",
    "string = open('24.A.txt').read()\n",
    "\n",
    "alph = \"QAZWSXEDCRFVTGBYHNUJMIKOLP\"\n",
    "counter = [string.count(\"A\" + char) for char in alph]\n",
    "\n",
    "print( *max(zip(counter, alph)) )"
   ]
  },
  {
   "cell_type": "markdown",
   "id": "operational-forwarding",
   "metadata": {},
   "source": [
    "**Задача&nbsp;8.** Текстовый файл содержит только заглавные буквы латинского алфавита \\\\(ABC... Z\\\\). Определите символ, который чаще всего встречается в&nbsp;файле после двух одинаковых символов \\\\(A\\\\)."
   ]
  },
  {
   "cell_type": "code",
   "execution_count": 44,
   "id": "average-north",
   "metadata": {},
   "outputs": [
    {
     "name": "stdout",
     "output_type": "stream",
     "text": [
      "70 O\n"
     ]
    }
   ],
   "source": [
    "string = open('24.A.txt').read()\n",
    "\n",
    "alph = \"QAZWSXEDCRFVTGBYHNUJMIKOLP\"\n",
    "counter = [string.count(\"AA\" + char) for char in alph]\n",
    "\n",
    "print( *max(zip(counter, alph)) )"
   ]
  },
  {
   "cell_type": "markdown",
   "id": "adjusted-baptist",
   "metadata": {},
   "source": [
    "### Контакты\n",
    "artem@zinkin.ru — вопросы, впечатления, отзывы и предложения"
   ]
  }
 ],
 "metadata": {
  "kernelspec": {
   "display_name": "Python 3",
   "language": "python",
   "name": "python3"
  },
  "language_info": {
   "codemirror_mode": {
    "name": "ipython",
    "version": 3
   },
   "file_extension": ".py",
   "mimetype": "text/x-python",
   "name": "python",
   "nbconvert_exporter": "python",
   "pygments_lexer": "ipython3",
   "version": "3.9.1"
  }
 },
 "nbformat": 4,
 "nbformat_minor": 5
}
