{
 "cells": [
  {
   "cell_type": "code",
   "execution_count": null,
   "id": "solar-waters",
   "metadata": {
    "slideshow": {
     "slide_type": "skip"
    }
   },
   "outputs": [],
   "source": [
    "# технический момент\n",
    "# настройка основного каталога\n",
    "\n",
    "# import os\n",
    "# os.chdir(\"src/txt/\")\n",
    "# os.getcwd()"
   ]
  },
  {
   "cell_type": "markdown",
   "id": "stopped-generator",
   "metadata": {
    "slideshow": {
     "slide_type": "slide"
    }
   },
   "source": [
    "<h1 class=\"text-center\">Нестандартные алгоритмы решения<br>ЕГЭ 2021 по информатике<br>с помощью компьютера</h1>\n",
    "<p class=\"text-center mt-50\">номера 14 и 24</p>\n",
    "<p class=\"text-center mt-250\">Артём Анатольевич Зинкин</p>"
   ]
  },
  {
   "cell_type": "markdown",
   "id": "smoking-ecology",
   "metadata": {
    "slideshow": {
     "slide_type": "slide"
    }
   },
   "source": [
    "<h1 class=\"text-center\">Как слышно?</h1>\n",
    "<img src=\"src/img/voice.jpg\" class=\"mt-250\">"
   ]
  },
  {
   "cell_type": "markdown",
   "id": "mental-oxide",
   "metadata": {
    "slideshow": {
     "slide_type": "slide"
    }
   },
   "source": [
    "<h2>FAQ</h2>\n",
    "<p class=\"mt-150 mb\">1. Запись будет</p>\n",
    "<p class=\"mb\">2. Кодом поделюсь</p>\n",
    "<p class=\"mb\">3. Вопросы сразу — в чат</p>\n",
    "<p class=\"mb\">4. Вопросы после — artem@zinkin.ru</p>"
   ]
  },
  {
   "cell_type": "markdown",
   "id": "bibliographic-documentary",
   "metadata": {
    "slideshow": {
     "slide_type": "slide"
    }
   },
   "source": [
    "<h2>Артём Анатольевич Зинкин</h2>\n",
    "<p class=\"mt-150 mb\">Экспертный уровень ЕГЭ, МЦКО</p>\n",
    "<p class=\"mb\">Анализирую большие данные и пишу ботов на Python</p>\n",
    "<p class=\"mb\">Основатель проекта для спортивных программистов olympcode.ru</p>"
   ]
  },
  {
   "cell_type": "markdown",
   "id": "positive-crime",
   "metadata": {
    "slideshow": {
     "slide_type": "slide"
    }
   },
   "source": [
    "<h2>Программа вебинара</h2>\n",
    "<p class=\"mt-150 mb\">1. Ключевые изменения ЕГЭ по информатике в 2021 году</p>\n",
    "<p class=\"mb\">2. Подход к решению задач с учётом изменений</p>\n",
    "<p class=\"mb\">3. Реализация подхода на примере задания 14</p>\n",
    "<p class=\"mb\">4. Методика решения задания 24 ЕГЭ по информатике</p>"
   ]
  },
  {
   "cell_type": "markdown",
   "id": "previous-davis",
   "metadata": {
    "slideshow": {
     "slide_type": "slide"
    }
   },
   "source": [
    "<h1 class=\"text-center\">Напишите алгоритм решения</h1>\n",
    "<p class=\"mt-50\">\n",
    "    Известны координаты клетки шахматного поля.<br>\n",
    "    Определите клетка белая или чёрная?  \n",
    "</p>"
   ]
  },
  {
   "cell_type": "markdown",
   "id": "champion-edinburgh",
   "metadata": {
    "cell_style": "split",
    "slideshow": {
     "slide_type": "-"
    }
   },
   "source": [
    "<p>Пример</p>\n",
    "\n",
    "<table class=\"mb-0 mt-0\" style=\"float:left\">\n",
    "<thead>\n",
    "<tr>\n",
    "<td class=\"text-center\">Входные данные</td>\n",
    "<td class=\"text-center\">Выходные данные</td>\n",
    "</tr>\n",
    "</thead>\n",
    "<tbody><tr>\n",
    "<td class=\"text-center\">A1</td>\n",
    "<td class=\"text-center\">Чёрная</td>\n",
    "</tr>\n",
    "<tr>\n",
    "<td class=\"text-center\">A2</td>\n",
    "<td class=\"text-center\">Белая</td>\n",
    "</tr>\n",
    "</tbody></table>"
   ]
  },
  {
   "cell_type": "markdown",
   "id": "sporting-slope",
   "metadata": {
    "cell_style": "split",
    "slideshow": {
     "slide_type": "-"
    }
   },
   "source": [
    "<img src=\"src/img/chess.jpg\" width=\"300\" class=\"right\">"
   ]
  },
  {
   "cell_type": "markdown",
   "id": "stunning-draft",
   "metadata": {
    "slideshow": {
     "slide_type": "slide"
    }
   },
   "source": [
    "<h1 class=\"text-center\">Ключевые изменения ЕГЭ по&nbsp;информатике</h1>"
   ]
  },
  {
   "cell_type": "markdown",
   "id": "emerging-enhancement",
   "metadata": {
    "slideshow": {
     "slide_type": "fragment"
    }
   },
   "source": [
    "1. Среда программирования"
   ]
  },
  {
   "cell_type": "markdown",
   "id": "alone-stream",
   "metadata": {
    "slideshow": {
     "slide_type": "fragment"
    }
   },
   "source": [
    "2. Ответ важнее решения"
   ]
  },
  {
   "cell_type": "markdown",
   "id": "vital-cement",
   "metadata": {
    "slideshow": {
     "slide_type": "subslide"
    }
   },
   "source": [
    "<h1 class=\"text-center\">Подход к решению</h1>"
   ]
  },
  {
   "cell_type": "markdown",
   "id": "drawn-indie",
   "metadata": {
    "slideshow": {
     "slide_type": "fragment"
    }
   },
   "source": [
    "— Программа «Минутка»"
   ]
  },
  {
   "cell_type": "markdown",
   "id": "adjusted-extreme",
   "metadata": {
    "slideshow": {
     "slide_type": "fragment"
    }
   },
   "source": [
    "— Встроенные функции"
   ]
  },
  {
   "cell_type": "markdown",
   "id": "hispanic-religion",
   "metadata": {
    "slideshow": {
     "slide_type": "fragment"
    }
   },
   "source": [
    "— Экзамен не олимпиада"
   ]
  },
  {
   "cell_type": "markdown",
   "id": "played-bahrain",
   "metadata": {
    "slideshow": {
     "slide_type": "slide"
    }
   },
   "source": [
    "<h1 class=\"text-center\">ЕГЭ номер 14. Прямое сложение в&nbsp;системах счислений</h1>\n"
   ]
  },
  {
   "cell_type": "markdown",
   "id": "varying-friendly",
   "metadata": {
    "slideshow": {
     "slide_type": "slide"
    }
   },
   "source": [
    "<p class=\"text-center\">Значение арифметического выражения: \\\\(9^{18} + 3^{54} – 9\\\\) <br>записали в системе счисления с основанием \\\\(3\\\\). <br>Сколько цифр «\\\\(2\\\\)» содержится в этой записи?</p>"
   ]
  },
  {
   "cell_type": "code",
   "execution_count": 8,
   "id": "universal-packing",
   "metadata": {
    "cell_style": "split",
    "slideshow": {
     "slide_type": "fragment"
    }
   },
   "outputs": [
    {
     "name": "stdout",
     "output_type": "stream",
     "text": [
      "34\n"
     ]
    }
   ],
   "source": [
    "n = 9 ** 18 + 3 ** 54 - 9\n",
    "s = 0\n",
    "\n",
    "while n != 0:\n",
    "    if n % 3 == 2:\n",
    "        s = s + 1\n",
    "    n = n // 3\n",
    "\n",
    "print(s)"
   ]
  },
  {
   "cell_type": "code",
   "execution_count": 9,
   "id": "peripheral-story",
   "metadata": {
    "cell_style": "split",
    "slideshow": {
     "slide_type": "fragment"
    }
   },
   "outputs": [
    {
     "ename": "NameError",
     "evalue": "name 'выражение' is not defined",
     "output_type": "error",
     "traceback": [
      "\u001b[0;31m---------------------------------------------------------------------------\u001b[0m",
      "\u001b[0;31mNameError\u001b[0m                                 Traceback (most recent call last)",
      "\u001b[0;32m<ipython-input-9-5d64af157e68>\u001b[0m in \u001b[0;36m<module>\u001b[0;34m\u001b[0m\n\u001b[0;32m----> 1\u001b[0;31m \u001b[0mn\u001b[0m \u001b[0;34m=\u001b[0m \u001b[0mвыражение\u001b[0m\u001b[0;34m\u001b[0m\u001b[0;34m\u001b[0m\u001b[0m\n\u001b[0m\u001b[1;32m      2\u001b[0m \u001b[0ms\u001b[0m \u001b[0;34m=\u001b[0m \u001b[0;36m0\u001b[0m\u001b[0;34m\u001b[0m\u001b[0;34m\u001b[0m\u001b[0m\n\u001b[1;32m      3\u001b[0m \u001b[0;34m\u001b[0m\u001b[0m\n\u001b[1;32m      4\u001b[0m \u001b[0;32mwhile\u001b[0m \u001b[0mn\u001b[0m\u001b[0;34m:\u001b[0m\u001b[0;34m\u001b[0m\u001b[0;34m\u001b[0m\u001b[0m\n\u001b[1;32m      5\u001b[0m     \u001b[0ms\u001b[0m \u001b[0;34m+=\u001b[0m \u001b[0mn\u001b[0m \u001b[0;34m%\u001b[0m \u001b[0mосновние\u001b[0m \u001b[0;34m==\u001b[0m \u001b[0mцифра\u001b[0m\u001b[0;34m\u001b[0m\u001b[0;34m\u001b[0m\u001b[0m\n",
      "\u001b[0;31mNameError\u001b[0m: name 'выражение' is not defined"
     ]
    }
   ],
   "source": [
    "n = выражение\n",
    "s = 0\n",
    "\n",
    "while n:\n",
    "    s += n % основние == цифра\n",
    "    n //= основание\n",
    "\n",
    "print(s)"
   ]
  },
  {
   "cell_type": "markdown",
   "id": "maritime-causing",
   "metadata": {
    "cell_style": "center",
    "slideshow": {
     "slide_type": "slide"
    }
   },
   "source": [
    "<p class=\"text-center\">Значение выражения \\\\(2 * 216^6 + 3 * 36^9 − 432\\\\) записали в системе счисления с основанием \\\\(6\\\\). Сколько цифр \\\\(5\\\\) содержится в этой записи?</p>"
   ]
  },
  {
   "cell_type": "code",
   "execution_count": null,
   "id": "bronze-assurance",
   "metadata": {
    "slideshow": {
     "slide_type": "-"
    }
   },
   "outputs": [],
   "source": [
    "n = 2 * 216 ** 6 + 3 * 36 ** 9 - 432\n",
    "s = 0\n",
    "\n",
    "while n:\n",
    "    s += n % 6 == 5\n",
    "    n //= 6\n",
    "\n",
    "print(s)\n",
    "# усложнили предыдущее"
   ]
  },
  {
   "cell_type": "markdown",
   "id": "boring-athens",
   "metadata": {
    "slideshow": {
     "slide_type": "slide"
    }
   },
   "source": [
    "<p class=\"text-center\">Значение выражения \\\\(216^5 + 6^3 - 1 - X\\\\) записали в системе счисления <br>с основание \\\\(6\\\\), при этом в записи оказалось \\\\(12\\\\) цифр \\\\(5\\\\). При каком минимальном положительном значении \\\\(X\\\\) это возможно?</p>"
   ]
  },
  {
   "cell_type": "code",
   "execution_count": null,
   "id": "rising-minimum",
   "metadata": {
    "slideshow": {
     "slide_type": "-"
    }
   },
   "outputs": [],
   "source": [
    "for x in range(1000):\n",
    "    n = 216 ** 5 + 6 ** 3 - 1 - x\n",
    "    s = 0\n",
    "\n",
    "    while n:\n",
    "        s += n % 6 == 5\n",
    "        n //= 6\n",
    "\n",
    "    if s == 12:\n",
    "        print(x)\n",
    "        break\n",
    "#         Stop — не сработает в других языках\n",
    "# Промежуток может быть любой, мы можем его не угадать"
   ]
  },
  {
   "cell_type": "markdown",
   "id": "closing-cradle",
   "metadata": {
    "slideshow": {
     "slide_type": "slide"
    }
   },
   "source": [
    "<h1 class=\"text-center\">ЕГЭ номер 24. <br>Обработка символьных строк</h1>"
   ]
  },
  {
   "cell_type": "markdown",
   "id": "defensive-building",
   "metadata": {
    "slideshow": {
     "slide_type": "subslide"
    }
   },
   "source": [
    "<center><img src=\"src/img/files.png\" width=\"300\" class=\"mt-0 mb-0\"></center>"
   ]
  },
  {
   "cell_type": "markdown",
   "id": "paperback-communications",
   "metadata": {
    "slideshow": {
     "slide_type": "slide"
    }
   },
   "source": [
    "<p class=\"text-center\">Текстовый файл состоит не более чем из \\\\(10^6\\\\) символов \\\\(X\\\\), \\\\(Y\\\\) и \\\\(Z\\\\). Определите максимальную длину цепочки вида \\\\(XYZXYZXYZ...\\\\) (последний фрагмент может быть неполным)</p>"
   ]
  },
  {
   "cell_type": "code",
   "execution_count": null,
   "id": "moderate-webster",
   "metadata": {
    "cell_style": "center",
    "slideshow": {
     "slide_type": "-"
    }
   },
   "outputs": [],
   "source": [
    "# для  чего выводят 20 символом:\n",
    "#     1. Понять, как выглядит файл\n",
    "#     2. Я считал то, что нужно\n",
    "\n",
    "string = \"XYZ\" * 1000\n",
    "chain = \"X\"\n",
    "count = 0\n",
    "\n",
    "while chain in string:\n",
    "    count += 1\n",
    "    chain += \"XYZ\"[count % 3]\n",
    "\n",
    "print(len(chain))"
   ]
  },
  {
   "cell_type": "code",
   "execution_count": null,
   "id": "comparative-resort",
   "metadata": {
    "cell_style": "split",
    "slideshow": {
     "slide_type": "fragment"
    }
   },
   "outputs": [],
   "source": []
  },
  {
   "cell_type": "markdown",
   "id": "current-sunset",
   "metadata": {
    "slideshow": {
     "slide_type": "slide"
    }
   },
   "source": [
    "<p class=\"text-center\">Текстовый файл состоит не более чем из \\\\(10^6\\\\) символов \\\\(X\\\\), \\\\(Y\\\\) и \\\\(Z\\\\). Определите длину самой длинной последовательности, <br>состоящей из символов \\\\(X\\\\).</p>"
   ]
  },
  {
   "cell_type": "code",
   "execution_count": null,
   "id": "experimental-manhattan",
   "metadata": {
    "slideshow": {
     "slide_type": "-"
    }
   },
   "outputs": [],
   "source": [
    "# Не могу заменить на что-то другое\n",
    "string = open('24.txt').read()\n",
    "chain = \"X\"\n",
    "\n",
    "while chain in string:\n",
    "    chain += \"X\"\n",
    "\n",
    "print(len(chain) - 1)"
   ]
  },
  {
   "cell_type": "code",
   "execution_count": null,
   "id": "lucky-lighting",
   "metadata": {
    "cell_style": "center",
    "slideshow": {
     "slide_type": "fragment"
    }
   },
   "outputs": [],
   "source": [
    "# Не могу заменить на что-то другое\n",
    "string = open('24.txt').read().replace(\"Y\", \" \").replace(\"Z\", \" \").split()\n",
    "print(len(max(string, key=len)))"
   ]
  },
  {
   "cell_type": "markdown",
   "id": "narrative-vegetation",
   "metadata": {
    "slideshow": {
     "slide_type": "slide"
    }
   },
   "source": [
    "<p class=\"text-center\">Текстовый файл состоит не более чем из \\\\(10^6\\\\) символов \\\\(X\\\\), \\\\(Y\\\\) и \\\\(Z\\\\). Определите максимальное количество идущих подряд символов, <br>среди которых каждые два соседних различны.</p>"
   ]
  },
  {
   "cell_type": "code",
   "execution_count": null,
   "id": "approved-craps",
   "metadata": {
    "slideshow": {
     "slide_type": "-"
    }
   },
   "outputs": [],
   "source": [
    "string = open('24.txt').read()\n",
    "pairs = ('XX', \"X X\"), ('YY', \"Y Y\"), ('ZZ', \"Z Z\")\n",
    "\n",
    "for a,b in pairs:\n",
    "    while a in string: string = string.replace(a, b)\n",
    "        \n",
    "print( len(max(string.split(), key=len)) )"
   ]
  },
  {
   "cell_type": "markdown",
   "id": "female-margin",
   "metadata": {
    "slideshow": {
     "slide_type": "slide"
    }
   },
   "source": [
    "<p class=\"text-center\">Текстовый файл содержит только заглавные буквы латинского алфавита <br>\\\\(ABC...Z\\\\). Определите символ, который чаще всего <br>встречается в файле сразу после буквы \\\\(A\\\\).</p>"
   ]
  },
  {
   "cell_type": "code",
   "execution_count": null,
   "id": "specialized-retailer",
   "metadata": {},
   "outputs": [],
   "source": [
    "string = open('24.A.txt').read()\n",
    "max_len = 0\n",
    "max_len_char = \"\"\n",
    "alph = \"QAZWSXEDCRFVTGBYHNUJMIKOLP\"\n",
    "\n",
    "for char in alph:\n",
    "    s = string.count(\"A\" + char)\n",
    "    if s > max_len:\n",
    "        max_len = s\n",
    "        max_len_char = char\n",
    "\n",
    "print(max_len, max_len_char)"
   ]
  },
  {
   "cell_type": "code",
   "execution_count": null,
   "id": "elect-sequence",
   "metadata": {
    "cell_style": "split",
    "slideshow": {
     "slide_type": "fragment"
    }
   },
   "outputs": [],
   "source": []
  },
  {
   "cell_type": "markdown",
   "id": "defined-basket",
   "metadata": {
    "slideshow": {
     "slide_type": "slide"
    }
   },
   "source": [
    "<p class=\"text-center\">Текстовый файл содержит только заглавные буквы латинского алфавита <br>\\\\(ABC...Z\\\\). Определите символ, который чаще всего встречается <br>в файле после двух одиннаковых символов \\\\(A\\\\).</p>"
   ]
  },
  {
   "cell_type": "code",
   "execution_count": null,
   "id": "coated-gospel",
   "metadata": {},
   "outputs": [],
   "source": []
  },
  {
   "cell_type": "markdown",
   "id": "chemical-tuner",
   "metadata": {
    "slideshow": {
     "slide_type": "slide"
    }
   },
   "source": [
    "<h1 class=\"text-center\">Всё ли было понятно?</h1>"
   ]
  },
  {
   "cell_type": "markdown",
   "id": "frequent-refund",
   "metadata": {
    "slideshow": {
     "slide_type": "slide"
    }
   },
   "source": [
    "<center>Известны координаты клетки шахматного поля.<br>  \n",
    "Определите клетка белая или чёрная?</center>"
   ]
  },
  {
   "cell_type": "code",
   "execution_count": null,
   "id": "electrical-houston",
   "metadata": {
    "cell_style": "split",
    "slideshow": {
     "slide_type": "-"
    }
   },
   "outputs": [],
   "source": []
  },
  {
   "cell_type": "markdown",
   "id": "thermal-married",
   "metadata": {
    "cell_style": "split",
    "slideshow": {
     "slide_type": "-"
    }
   },
   "source": [
    "<img src=\"src/img/chess.jpg\" width=\"300\" class=\"right\">"
   ]
  },
  {
   "cell_type": "markdown",
   "id": "weighted-importance",
   "metadata": {
    "slideshow": {
     "slide_type": "slide"
    }
   },
   "source": [
    "<h1 class=\"text-center\">Что дальше?</h1>"
   ]
  },
  {
   "cell_type": "markdown",
   "id": "neither-pension",
   "metadata": {
    "slideshow": {
     "slide_type": "slide"
    }
   },
   "source": [
    "<p class=\"text-center\">Нестандартные алгоритмы решения ЕГЭ 2021 по информатике<br>с помощью компьютера</p>\n",
    "<h1 class=\"text-center mt-150\">github.com/zinkinru/webinar-10032021</h1>\n",
    "<p class=\"text-center mt-250\" style=\"font-weight:300\">artem @ zinkin . ru</p>"
   ]
  }
 ],
 "metadata": {
  "celltoolbar": "Слайд-шоу",
  "kernelspec": {
   "display_name": "Python 3",
   "language": "python",
   "name": "python3"
  },
  "language_info": {
   "codemirror_mode": {
    "name": "ipython",
    "version": 3
   },
   "file_extension": ".py",
   "mimetype": "text/x-python",
   "name": "python",
   "nbconvert_exporter": "python",
   "pygments_lexer": "ipython3",
   "version": "3.9.1"
  }
 },
 "nbformat": 4,
 "nbformat_minor": 5
}
